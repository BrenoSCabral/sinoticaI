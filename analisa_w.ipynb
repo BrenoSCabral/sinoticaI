{
 "cells": [
  {
   "cell_type": "code",
   "execution_count": 1,
   "metadata": {},
   "outputs": [],
   "source": [
    "import os\n",
    "import netCDF4 as nc\n",
    "import numpy as np\n",
    "import matplotlib.pyplot as plt\n",
    "import pandas as pd\n",
    "from datetime import datetime \n",
    "\n",
    "dados = os.getcwd() + '/dados'\n",
    "dado = nc.Dataset(dados+'/'+os.listdir(dados)[0])"
   ]
  },
  {
   "cell_type": "code",
   "execution_count": 2,
   "metadata": {},
   "outputs": [
    {
     "data": {
      "text/plain": [
       "'era5_11-09-2021.nc'"
      ]
     },
     "execution_count": 2,
     "metadata": {},
     "output_type": "execute_result"
    }
   ],
   "source": [
    "os.listdir(dados)[0]"
   ]
  },
  {
   "cell_type": "code",
   "execution_count": 20,
   "metadata": {},
   "outputs": [],
   "source": [
    "arr_w = np.asarray(dado['w'])"
   ]
  },
  {
   "cell_type": "code",
   "execution_count": 27,
   "metadata": {},
   "outputs": [
    {
     "data": {
      "text/plain": [
       "array([], shape=(0, 601), dtype=float64)"
      ]
     },
     "execution_count": 27,
     "metadata": {},
     "output_type": "execute_result"
    }
   ],
   "source": [
    "arr_w[0][0][140:221][280:401]"
   ]
  },
  {
   "cell_type": "code",
   "execution_count": 41,
   "metadata": {
    "scrolled": true
   },
   "outputs": [],
   "source": [
    "w11_09_1000_aux = map(lambda item: item[280:401], arr_w[0][10][140:241])\n",
    "w11_09_1000 = np.asarray(list(w11_09_1000_aux)).flatten()\n",
    "\n",
    "w11_09_850_aux = map(lambda item: item[280:401], arr_w[0][7][140:241])\n",
    "w11_09_850 = np.asarray(list(w11_09_850_aux)).flatten()\n",
    "\n",
    "w11_09_700_aux = map(lambda item: item[280:401], arr_w[0][4][140:241])\n",
    "w11_09_700 = np.asarray(list(w11_09_700_aux)).flatten()\n",
    "\n",
    "w11_09_500_aux = map(lambda item: item[280:401], arr_w[0][0][140:241])\n",
    "w11_09_500 = np.asarray(list(w11_09_500_aux)).flatten()"
   ]
  },
  {
   "cell_type": "code",
   "execution_count": 39,
   "metadata": {
    "collapsed": true
   },
   "outputs": [
    {
     "data": {
      "text/plain": [
       "masked_array(data=[-20.  , -20.25, -20.5 , -20.75, -21.  , -21.25, -21.5 ,\n",
       "                   -21.75, -22.  , -22.25, -22.5 , -22.75, -23.  , -23.25,\n",
       "                   -23.5 , -23.75, -24.  , -24.25, -24.5 , -24.75, -25.  ,\n",
       "                   -25.25, -25.5 , -25.75, -26.  , -26.25, -26.5 , -26.75,\n",
       "                   -27.  , -27.25, -27.5 , -27.75, -28.  , -28.25, -28.5 ,\n",
       "                   -28.75, -29.  , -29.25, -29.5 , -29.75, -30.  , -30.25,\n",
       "                   -30.5 , -30.75, -31.  , -31.25, -31.5 , -31.75, -32.  ,\n",
       "                   -32.25, -32.5 , -32.75, -33.  , -33.25, -33.5 , -33.75,\n",
       "                   -34.  , -34.25, -34.5 , -34.75, -35.  , -35.25, -35.5 ,\n",
       "                   -35.75, -36.  , -36.25, -36.5 , -36.75, -37.  , -37.25,\n",
       "                   -37.5 , -37.75, -38.  , -38.25, -38.5 , -38.75, -39.  ,\n",
       "                   -39.25, -39.5 , -39.75, -40.  ],\n",
       "             mask=False,\n",
       "       fill_value=1e+20,\n",
       "            dtype=float32)"
      ]
     },
     "execution_count": 39,
     "metadata": {},
     "output_type": "execute_result"
    }
   ],
   "source": [
    "# dia 11/09 -> niveis 1000; 850; 700; 500\n",
    "#            -> recorte 20-40S / 30-60W\n",
    "dado['latitude'][140:221] # -> essa eh a faixa de latitudes a ser utilizada pro dia 11/09"
   ]
  },
  {
   "cell_type": "code",
   "execution_count": 40,
   "metadata": {
    "collapsed": true
   },
   "outputs": [
    {
     "data": {
      "text/plain": [
       "masked_array(data=[-60.  , -59.75, -59.5 , -59.25, -59.  , -58.75, -58.5 ,\n",
       "                   -58.25, -58.  , -57.75, -57.5 , -57.25, -57.  , -56.75,\n",
       "                   -56.5 , -56.25, -56.  , -55.75, -55.5 , -55.25, -55.  ,\n",
       "                   -54.75, -54.5 , -54.25, -54.  , -53.75, -53.5 , -53.25,\n",
       "                   -53.  , -52.75, -52.5 , -52.25, -52.  , -51.75, -51.5 ,\n",
       "                   -51.25, -51.  , -50.75, -50.5 , -50.25, -50.  , -49.75,\n",
       "                   -49.5 , -49.25, -49.  , -48.75, -48.5 , -48.25, -48.  ,\n",
       "                   -47.75, -47.5 , -47.25, -47.  , -46.75, -46.5 , -46.25,\n",
       "                   -46.  , -45.75, -45.5 , -45.25, -45.  , -44.75, -44.5 ,\n",
       "                   -44.25, -44.  , -43.75, -43.5 , -43.25, -43.  , -42.75,\n",
       "                   -42.5 , -42.25, -42.  , -41.75, -41.5 , -41.25, -41.  ,\n",
       "                   -40.75, -40.5 , -40.25, -40.  , -39.75, -39.5 , -39.25,\n",
       "                   -39.  , -38.75, -38.5 , -38.25, -38.  , -37.75, -37.5 ,\n",
       "                   -37.25, -37.  , -36.75, -36.5 , -36.25, -36.  , -35.75,\n",
       "                   -35.5 , -35.25, -35.  , -34.75, -34.5 , -34.25, -34.  ,\n",
       "                   -33.75, -33.5 , -33.25, -33.  , -32.75, -32.5 , -32.25,\n",
       "                   -32.  , -31.75, -31.5 , -31.25, -31.  , -30.75, -30.5 ,\n",
       "                   -30.25, -30.  ],\n",
       "             mask=False,\n",
       "       fill_value=1e+20,\n",
       "            dtype=float32)"
      ]
     },
     "execution_count": 40,
     "metadata": {},
     "output_type": "execute_result"
    }
   ],
   "source": [
    "dado['longitude'][280:401] # -> essa eh a faixa de longitudes a ser utilizada pro dia 11/09"
   ]
  },
  {
   "cell_type": "code",
   "execution_count": 48,
   "metadata": {},
   "outputs": [
    {
     "data": {
      "text/plain": [
       "masked_array(data=1000,\n",
       "             mask=False,\n",
       "       fill_value=999999,\n",
       "            dtype=int32)"
      ]
     },
     "execution_count": 48,
     "metadata": {},
     "output_type": "execute_result"
    }
   ],
   "source": [
    "dado['level'][10]"
   ]
  },
  {
   "cell_type": "code",
   "execution_count": 56,
   "metadata": {},
   "outputs": [],
   "source": [
    "medias  = [np.mean(w11_09_1000), np.mean(w11_09_850), np.mean(w11_09_700), np.mean(w11_09_500)]\n",
    "niveis = [1000, 850, 700, 500]"
   ]
  },
  {
   "cell_type": "code",
   "execution_count": 74,
   "metadata": {},
   "outputs": [
    {
     "data": {
      "text/plain": [
       "Text(0.5, 1.0, 'Média de w na região de interesse para o dia 11/09')"
      ]
     },
     "execution_count": 74,
     "metadata": {},
     "output_type": "execute_result"
    },
    {
     "data": {
      "image/png": "[encoded data removed]",
      "text/plain": [
       "<Figure size 432x288 with 1 Axes>"
      ]
     },
     "metadata": {
      "needs_background": "light"
     },
     "output_type": "display_data"
    }
   ],
   "source": [
    "plt.plot(medias, niveis)\n",
    "ax = plt.gca()\n",
    "ax.set_ylim(ax.get_ylim()[::-1])\n",
    "ax.set_ylabel('Nível (hPa)')\n",
    "ax.set_xlabel('Velocidade Vertical (m/s)')\n",
    "ax.grid()\n",
    "plt.title('Média de w na região de interesse para o dia 11/09')"
   ]
  },
  {
   "cell_type": "code",
   "execution_count": null,
   "metadata": {},
   "outputs": [],
   "source": []
  },
  {
   "cell_type": "code",
   "execution_count": 3,
   "metadata": {},
   "outputs": [
    {
     "data": {
      "text/plain": [
       "array([cftime.DatetimeGregorian(2021, 9, 11, 6, 0, 0, 0, has_year_zero=False),\n",
       "       cftime.DatetimeGregorian(2021, 9, 11, 9, 0, 0, 0, has_year_zero=False),\n",
       "       cftime.DatetimeGregorian(2021, 9, 11, 12, 0, 0, 0, has_year_zero=False),\n",
       "       cftime.DatetimeGregorian(2021, 9, 11, 15, 0, 0, 0, has_year_zero=False),\n",
       "       cftime.DatetimeGregorian(2021, 9, 11, 18, 0, 0, 0, has_year_zero=False),\n",
       "       cftime.DatetimeGregorian(2021, 9, 11, 21, 0, 0, 0, has_year_zero=False)],\n",
       "      dtype=object)"
      ]
     },
     "execution_count": 3,
     "metadata": {},
     "output_type": "execute_result"
    }
   ],
   "source": [
    "nc.num2date(dado.variables['time'][:].data, dado.variables['time'].units, dado.variables['time'].calendar) \n",
    "# ai estao as datas d"
   ]
  },
  {
   "cell_type": "code",
   "execution_count": 52,
   "metadata": {},
   "outputs": [
    {
     "data": {
      "text/plain": [
       "0.07577403596233667"
      ]
     },
     "execution_count": 52,
     "metadata": {},
     "output_type": "execute_result"
    }
   ],
   "source": [
    "dado['w'][0][0][0][0]"
   ]
  },
  {
   "cell_type": "code",
   "execution_count": 63,
   "metadata": {},
   "outputs": [
    {
     "data": {
      "text/plain": [
       "masked_array(data=1066758,\n",
       "             mask=False,\n",
       "       fill_value=999999,\n",
       "            dtype=int32)"
      ]
     },
     "execution_count": 63,
     "metadata": {},
     "output_type": "execute_result"
    }
   ],
   "source": [
    "dado['time'][0]"
   ]
  },
  {
   "cell_type": "code",
   "execution_count": 48,
   "metadata": {},
   "outputs": [
    {
     "data": {
      "text/plain": [
       "masked_array(data=550,\n",
       "             mask=False,\n",
       "       fill_value=999999,\n",
       "            dtype=int32)"
      ]
     },
     "execution_count": 48,
     "metadata": {},
     "output_type": "execute_result"
    }
   ],
   "source": [
    "dado['level'][1] # o level comeca no nivel de 500 e vai descendo de 50 em 50 ate chegar em 1000"
   ]
  },
  {
   "cell_type": "code",
   "execution_count": null,
   "metadata": {},
   "outputs": [],
   "source": []
  },
  {
   "cell_type": "code",
   "execution_count": 22,
   "metadata": {},
   "outputs": [
    {
     "data": {
      "text/plain": [
       "{'longitude': <class 'netCDF4._netCDF4.Variable'>\n",
       " float32 longitude(longitude)\n",
       "     units: degrees_east\n",
       "     long_name: longitude\n",
       " unlimited dimensions: \n",
       " current shape = (601,)\n",
       " filling on, default _FillValue of 9.969209968386869e+36 used,\n",
       " 'latitude': <class 'netCDF4._netCDF4.Variable'>\n",
       " float32 latitude(latitude)\n",
       "     units: degrees_north\n",
       "     long_name: latitude\n",
       " unlimited dimensions: \n",
       " current shape = (301,)\n",
       " filling on, default _FillValue of 9.969209968386869e+36 used,\n",
       " 'level': <class 'netCDF4._netCDF4.Variable'>\n",
       " int32 level(level)\n",
       "     units: millibars\n",
       "     long_name: pressure_level\n",
       " unlimited dimensions: \n",
       " current shape = (11,)\n",
       " filling on, default _FillValue of -2147483647 used,\n",
       " 'time': <class 'netCDF4._netCDF4.Variable'>\n",
       " int32 time(time)\n",
       "     units: hours since 1900-01-01 00:00:00.0\n",
       "     long_name: time\n",
       "     calendar: gregorian\n",
       " unlimited dimensions: \n",
       " current shape = (6,)\n",
       " filling on, default _FillValue of -2147483647 used,\n",
       " 'd': <class 'netCDF4._netCDF4.Variable'>\n",
       " int16 d(time, level, latitude, longitude)\n",
       "     scale_factor: 1.7729172578559477e-08\n",
       "     add_offset: 2.915433768457616e-05\n",
       "     _FillValue: -32767\n",
       "     missing_value: -32767\n",
       "     units: s**-1\n",
       "     long_name: Divergence\n",
       "     standard_name: divergence_of_wind\n",
       " unlimited dimensions: \n",
       " current shape = (6, 11, 301, 601)\n",
       " filling on,\n",
       " 'z': <class 'netCDF4._netCDF4.Variable'>\n",
       " int16 z(time, level, latitude, longitude)\n",
       "     scale_factor: 0.933766969027055\n",
       "     add_offset: 27662.499913390486\n",
       "     _FillValue: -32767\n",
       "     missing_value: -32767\n",
       "     units: m**2 s**-2\n",
       "     long_name: Geopotential\n",
       "     standard_name: geopotential\n",
       " unlimited dimensions: \n",
       " current shape = (6, 11, 301, 601)\n",
       " filling on,\n",
       " 'u': <class 'netCDF4._netCDF4.Variable'>\n",
       " int16 u(time, level, latitude, longitude)\n",
       "     scale_factor: 0.0011826633757634512\n",
       "     add_offset: 11.549991554054305\n",
       "     _FillValue: -32767\n",
       "     missing_value: -32767\n",
       "     units: m s**-1\n",
       "     long_name: U component of wind\n",
       "     standard_name: eastward_wind\n",
       " unlimited dimensions: \n",
       " current shape = (6, 11, 301, 601)\n",
       " filling on,\n",
       " 'v': <class 'netCDF4._netCDF4.Variable'>\n",
       " int16 v(time, level, latitude, longitude)\n",
       "     scale_factor: 0.0014021095507672423\n",
       "     add_offset: 1.7729119212988351\n",
       "     _FillValue: -32767\n",
       "     missing_value: -32767\n",
       "     units: m s**-1\n",
       "     long_name: V component of wind\n",
       "     standard_name: northward_wind\n",
       " unlimited dimensions: \n",
       " current shape = (6, 11, 301, 601)\n",
       " filling on,\n",
       " 'w': <class 'netCDF4._netCDF4.Variable'>\n",
       " int16 w(time, level, latitude, longitude)\n",
       "     scale_factor: 0.00030411239502247436\n",
       "     add_offset: -2.1123146462243665\n",
       "     _FillValue: -32767\n",
       "     missing_value: -32767\n",
       "     units: Pa s**-1\n",
       "     long_name: Vertical velocity\n",
       "     standard_name: lagrangian_tendency_of_air_pressure\n",
       " unlimited dimensions: \n",
       " current shape = (6, 11, 301, 601)\n",
       " filling on,\n",
       " 'vo': <class 'netCDF4._netCDF4.Variable'>\n",
       " int16 vo(time, level, latitude, longitude)\n",
       "     scale_factor: 3.286100426726053e-08\n",
       "     add_offset: 1.2551418396336771e-05\n",
       "     _FillValue: -32767\n",
       "     missing_value: -32767\n",
       "     units: s**-1\n",
       "     long_name: Vorticity (relative)\n",
       "     standard_name: atmosphere_relative_vorticity\n",
       " unlimited dimensions: \n",
       " current shape = (6, 11, 301, 601)\n",
       " filling on}"
      ]
     },
     "execution_count": 22,
     "metadata": {},
     "output_type": "execute_result"
    }
   ],
   "source": [
    "dado.variables"
   ]
  },
  {
   "cell_type": "code",
   "execution_count": null,
   "metadata": {},
   "outputs": [],
   "source": []
  }
 ],
 "metadata": {
  "kernelspec": {
   "display_name": "Python 3",
   "language": "python",
   "name": "python3"
  },
  "language_info": {
   "codemirror_mode": {
    "name": "ipython",
    "version": 3
   },
   "file_extension": ".py",
   "mimetype": "text/x-python",
   "name": "python",
   "nbconvert_exporter": "python",
   "pygments_lexer": "ipython3",
   "version": "3.7.6"
  }
 },
 "nbformat": 4,
 "nbformat_minor": 4
}

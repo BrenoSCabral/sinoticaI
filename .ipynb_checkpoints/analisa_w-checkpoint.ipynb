{
 "cells": [
  {
   "cell_type": "code",
   "execution_count": 1,
   "metadata": {},
   "outputs": [],
   "source": [
    "import os\n",
    "import netCDF4 as nc\n",
    "import numpy as np\n",
    "import matplotlib.pyplot as plt\n",
    "import pandas as pd\n",
    "from datetime import datetime \n",
    "\n",
    "dados = os.getcwd() + '/dados'"
   ]
  },
  {
   "cell_type": "code",
   "execution_count": 2,
   "metadata": {},
   "outputs": [
    {
     "data": {
      "text/plain": [
       "'era5_11-09-2021.nc'"
      ]
     },
     "execution_count": 2,
     "metadata": {},
     "output_type": "execute_result"
    }
   ],
   "source": [
    "os.listdir(dados)[0]"
   ]
  },
  {
   "cell_type": "code",
   "execution_count": 100,
   "metadata": {
    "collapsed": true
   },
   "outputs": [
    {
     "data": {
      "text/plain": [
       "masked_array(data=[ 0.44070891,  0.44070891,  0.43523489,  0.42124572,\n",
       "                    0.39022625,  0.36498492,  0.34126416,  0.30142543,\n",
       "                    0.27496765,  0.27223064,  0.2761841 ,  0.28500336,\n",
       "                    0.29382262,  0.31115703,  0.34643407,  0.36802605,\n",
       "                    0.36163969,  0.34187238,  0.28986916,  0.20441358,\n",
       "                    0.13355539,  0.1019277 ,  0.09158788,  0.06786711,\n",
       "                    0.02437904,  0.01677623,  0.05661496,  0.0845933 ,\n",
       "                    0.10588116,  0.12473613,  0.08337685,  0.04232167,\n",
       "                    0.09067554,  0.15666793,  0.17643524,  0.26006615,\n",
       "                    0.53528786,  0.7128895 ,  0.17917225, -0.81892463,\n",
       "                   -1.07985307, -0.31257749,  0.50761364,  0.74330074,\n",
       "                    0.39174681, -0.43969647, -1.22673935, -1.28604127,\n",
       "                   -0.68785219, -0.11003864, -0.01241856, -0.36275604,\n",
       "                   -0.87366486, -1.31432372, -1.61904434, -1.68990253,\n",
       "                   -1.44782906, -1.0831983 , -0.69241387, -0.15839251,\n",
       "                    0.21262461,  0.05570262, -0.26300717, -0.33690648,\n",
       "                   -0.28216625, -0.21404508, -0.17146934, -0.19914357,\n",
       "                   -0.20583404, -0.19792712, -0.24810566, -0.29007318,\n",
       "                   -0.32048441, -0.35393678, -0.33629826, -0.33112835,\n",
       "                   -0.37492053, -0.41141402, -0.47162828, -0.54735226,\n",
       "                   -0.5801964 , -0.61760222, -0.65804917, -0.64770935,\n",
       "                   -0.6391942 , -0.65257515, -0.63280784, -0.62824616,\n",
       "                   -0.68663574, -0.71309352, -0.69089331, -0.74198419,\n",
       "                   -0.81284238, -0.73073204, -0.54370291, -0.45125274,\n",
       "                   -0.56012498, -0.58445397,  0.30264188,  2.22888979,\n",
       "                    3.37174417],\n",
       "             mask=False,\n",
       "       fill_value=1e+20)"
      ]
     },
     "execution_count": 100,
     "metadata": {},
     "output_type": "execute_result"
    }
   ],
   "source": [
    "dado['w'][0][0][200][140:241] # fazer um for com esses valores"
   ]
  },
  {
   "cell_type": "code",
   "execution_count": 34,
   "metadata": {},
   "outputs": [],
   "source": [
    "# dia 11/09 -> niveis 1000; 850; 700; 500\n",
    "#            -> recorte 20-40S / 30-60W\n",
    "dado['latitude'][140:221] # -> essa eh a faixa de latitudes a ser utilizada pro dia 11/09\n",
    "lat_range = range(140,222)"
   ]
  },
  {
   "cell_type": "code",
   "execution_count": 35,
   "metadata": {},
   "outputs": [],
   "source": [
    "dado['longitude'][280:401] # -> essa eh a faixa de longitudes a ser utilizada pro dia 11/09\n",
    "lon_range = range(280, 402)"
   ]
  },
  {
   "cell_type": "code",
   "execution_count": null,
   "metadata": {},
   "outputs": [],
   "source": [
    "import time \n",
    "start = time.time()\n",
    "w11_09_sup = []\n",
    "for i in lat_range:\n",
    "    for j in lon_range:\n",
    "        w11_09_sup.append(dado['w'][0][0][i][j]) # se demorar tempo demais pra fazer assim, eu arranjo outra forma\n",
    "end = time.time()\n",
    "print(end - start)"
   ]
  },
  {
   "cell_type": "code",
   "execution_count": 40,
   "metadata": {},
   "outputs": [
    {
     "ename": "KeyboardInterrupt",
     "evalue": "",
     "output_type": "error",
     "traceback": [
      "\u001b[0;31m---------------------------------------------------------------------------\u001b[0m",
      "\u001b[0;31mKeyboardInterrupt\u001b[0m                         Traceback (most recent call last)",
      "\u001b[0;32m<ipython-input-40-c8311c233196>\u001b[0m in \u001b[0;36m<module>\u001b[0;34m\u001b[0m\n\u001b[1;32m      1\u001b[0m \u001b[0mw11_09_sup\u001b[0m \u001b[0;34m=\u001b[0m \u001b[0;34m[\u001b[0m\u001b[0;34m]\u001b[0m\u001b[0;34m\u001b[0m\u001b[0;34m\u001b[0m\u001b[0m\n\u001b[1;32m      2\u001b[0m \u001b[0;32mfor\u001b[0m \u001b[0mi\u001b[0m \u001b[0;32min\u001b[0m \u001b[0mlat_range\u001b[0m\u001b[0;34m:\u001b[0m\u001b[0;34m\u001b[0m\u001b[0;34m\u001b[0m\u001b[0m\n\u001b[0;32m----> 3\u001b[0;31m         \u001b[0mw11_09_sup\u001b[0m\u001b[0;34m.\u001b[0m\u001b[0mappend\u001b[0m\u001b[0;34m(\u001b[0m\u001b[0mdado\u001b[0m\u001b[0;34m[\u001b[0m\u001b[0;34m'w'\u001b[0m\u001b[0;34m]\u001b[0m\u001b[0;34m[\u001b[0m\u001b[0;36m0\u001b[0m\u001b[0;34m]\u001b[0m\u001b[0;34m[\u001b[0m\u001b[0;36m0\u001b[0m\u001b[0;34m]\u001b[0m\u001b[0;34m[\u001b[0m\u001b[0mi\u001b[0m\u001b[0;34m]\u001b[0m\u001b[0;34m[\u001b[0m\u001b[0;36m280\u001b[0m\u001b[0;34m:\u001b[0m\u001b[0;36m401\u001b[0m\u001b[0;34m]\u001b[0m\u001b[0;34m)\u001b[0m \u001b[0;31m# se demorar tempo demais pra fazer assim, eu arranjo outra forma\u001b[0m\u001b[0;34m\u001b[0m\u001b[0;34m\u001b[0m\u001b[0m\n\u001b[0m",
      "\u001b[0;32mnetCDF4/_netCDF4.pyx\u001b[0m in \u001b[0;36mnetCDF4._netCDF4.Variable.__getitem__\u001b[0;34m()\u001b[0m\n",
      "\u001b[0;32mnetCDF4/_netCDF4.pyx\u001b[0m in \u001b[0;36mnetCDF4._netCDF4.Variable._toma\u001b[0;34m()\u001b[0m\n",
      "\u001b[0;32m~/anaconda3/lib/python3.7/site-packages/numpy/core/_methods.py\u001b[0m in \u001b[0;36m_any\u001b[0;34m(a, axis, dtype, out, keepdims)\u001b[0m\n\u001b[1;32m     42\u001b[0m     \u001b[0;32mreturn\u001b[0m \u001b[0mumr_prod\u001b[0m\u001b[0;34m(\u001b[0m\u001b[0ma\u001b[0m\u001b[0;34m,\u001b[0m \u001b[0maxis\u001b[0m\u001b[0;34m,\u001b[0m \u001b[0mdtype\u001b[0m\u001b[0;34m,\u001b[0m \u001b[0mout\u001b[0m\u001b[0;34m,\u001b[0m \u001b[0mkeepdims\u001b[0m\u001b[0;34m,\u001b[0m \u001b[0minitial\u001b[0m\u001b[0;34m,\u001b[0m \u001b[0mwhere\u001b[0m\u001b[0;34m)\u001b[0m\u001b[0;34m\u001b[0m\u001b[0;34m\u001b[0m\u001b[0m\n\u001b[1;32m     43\u001b[0m \u001b[0;34m\u001b[0m\u001b[0m\n\u001b[0;32m---> 44\u001b[0;31m \u001b[0;32mdef\u001b[0m \u001b[0m_any\u001b[0m\u001b[0;34m(\u001b[0m\u001b[0ma\u001b[0m\u001b[0;34m,\u001b[0m \u001b[0maxis\u001b[0m\u001b[0;34m=\u001b[0m\u001b[0;32mNone\u001b[0m\u001b[0;34m,\u001b[0m \u001b[0mdtype\u001b[0m\u001b[0;34m=\u001b[0m\u001b[0;32mNone\u001b[0m\u001b[0;34m,\u001b[0m \u001b[0mout\u001b[0m\u001b[0;34m=\u001b[0m\u001b[0;32mNone\u001b[0m\u001b[0;34m,\u001b[0m \u001b[0mkeepdims\u001b[0m\u001b[0;34m=\u001b[0m\u001b[0;32mFalse\u001b[0m\u001b[0;34m)\u001b[0m\u001b[0;34m:\u001b[0m\u001b[0;34m\u001b[0m\u001b[0;34m\u001b[0m\u001b[0m\n\u001b[0m\u001b[1;32m     45\u001b[0m     \u001b[0;32mreturn\u001b[0m \u001b[0mumr_any\u001b[0m\u001b[0;34m(\u001b[0m\u001b[0ma\u001b[0m\u001b[0;34m,\u001b[0m \u001b[0maxis\u001b[0m\u001b[0;34m,\u001b[0m \u001b[0mdtype\u001b[0m\u001b[0;34m,\u001b[0m \u001b[0mout\u001b[0m\u001b[0;34m,\u001b[0m \u001b[0mkeepdims\u001b[0m\u001b[0;34m)\u001b[0m\u001b[0;34m\u001b[0m\u001b[0;34m\u001b[0m\u001b[0m\n\u001b[1;32m     46\u001b[0m \u001b[0;34m\u001b[0m\u001b[0m\n",
      "\u001b[0;31mKeyboardInterrupt\u001b[0m: "
     ]
    }
   ],
   "source": [
    "import time\n",
    "start = time.time()\n",
    "w11_09_sup = []\n",
    "for i in lat_range:\n",
    "        w11_09_sup.append(dado['w'][0][0][i][280:401]) # se demorar tempo demais pra fazer assim, eu arranjo outra forma\n",
    "end = time.time()\n",
    "print(end-start)"
   ]
  },
  {
   "cell_type": "code",
   "execution_count": null,
   "metadata": {},
   "outputs": [],
   "source": [
    "\n",
    "\n"
   ]
  },
  {
   "cell_type": "code",
   "execution_count": 36,
   "metadata": {},
   "outputs": [
    {
     "data": {
      "text/plain": [
       "masked_array(\n",
       "  data=[[ 0.07577404,  0.03532709, -0.0625971 , ..., -0.16873233,\n",
       "         -0.10365228, -0.01728436],\n",
       "        [ 0.0578314 ,  0.01677623, -0.03948456, ..., -0.13801698,\n",
       "         -0.06867935, -0.01028977],\n",
       "        [ 0.00582819, -0.00481575, -0.01028977, ..., -0.09604947,\n",
       "         -0.04647915, -0.01059388],\n",
       "        ...,\n",
       "        [-0.11460032, -0.09787414, -0.08266852, ...,  0.3595109 ,\n",
       "          0.3716754 ,  0.38536045],\n",
       "        [-0.06563823, -0.0428298 , -0.02062959, ...,  0.37562886,\n",
       "          0.38262344,  0.38870569],\n",
       "        [-0.02154193, -0.00329519,  0.01677623, ...,  0.38323167,\n",
       "          0.38840158,  0.39113859]],\n",
       "  mask=False,\n",
       "  fill_value=1e+20)"
      ]
     },
     "execution_count": 36,
     "metadata": {},
     "output_type": "execute_result"
    }
   ],
   "source": [
    "# fazendo o recorte de lat e lon:\n",
    "dado['w'][0][0] "
   ]
  },
  {
   "cell_type": "code",
   "execution_count": 3,
   "metadata": {},
   "outputs": [],
   "source": [
    "dado = nc.Dataset(dados+'/'+os.listdir(dados)[0])"
   ]
  },
  {
   "cell_type": "code",
   "execution_count": 4,
   "metadata": {},
   "outputs": [
    {
     "data": {
      "text/plain": [
       "array([cftime.DatetimeGregorian(2021, 9, 11, 6, 0, 0, 0, has_year_zero=False),\n",
       "       cftime.DatetimeGregorian(2021, 9, 11, 9, 0, 0, 0, has_year_zero=False),\n",
       "       cftime.DatetimeGregorian(2021, 9, 11, 12, 0, 0, 0, has_year_zero=False),\n",
       "       cftime.DatetimeGregorian(2021, 9, 11, 15, 0, 0, 0, has_year_zero=False),\n",
       "       cftime.DatetimeGregorian(2021, 9, 11, 18, 0, 0, 0, has_year_zero=False),\n",
       "       cftime.DatetimeGregorian(2021, 9, 11, 21, 0, 0, 0, has_year_zero=False)],\n",
       "      dtype=object)"
      ]
     },
     "execution_count": 4,
     "metadata": {},
     "output_type": "execute_result"
    }
   ],
   "source": [
    "nc.num2date(dado.variables['time'][:].data, dado.variables['time'].units, dado.variables['time'].calendar) \n",
    "# ai estao as datas d"
   ]
  },
  {
   "cell_type": "code",
   "execution_count": 52,
   "metadata": {},
   "outputs": [
    {
     "data": {
      "text/plain": [
       "0.07577403596233667"
      ]
     },
     "execution_count": 52,
     "metadata": {},
     "output_type": "execute_result"
    }
   ],
   "source": [
    "dado['w'][0][0][0][0]"
   ]
  },
  {
   "cell_type": "code",
   "execution_count": 63,
   "metadata": {},
   "outputs": [
    {
     "data": {
      "text/plain": [
       "masked_array(data=1066758,\n",
       "             mask=False,\n",
       "       fill_value=999999,\n",
       "            dtype=int32)"
      ]
     },
     "execution_count": 63,
     "metadata": {},
     "output_type": "execute_result"
    }
   ],
   "source": [
    "dado['time'][0]"
   ]
  },
  {
   "cell_type": "code",
   "execution_count": 48,
   "metadata": {},
   "outputs": [
    {
     "data": {
      "text/plain": [
       "masked_array(data=550,\n",
       "             mask=False,\n",
       "       fill_value=999999,\n",
       "            dtype=int32)"
      ]
     },
     "execution_count": 48,
     "metadata": {},
     "output_type": "execute_result"
    }
   ],
   "source": [
    "dado['level'][1] # o level comeca no nivel de 500 e vai descendo de 50 em 50 ate chegar em 1000"
   ]
  },
  {
   "cell_type": "code",
   "execution_count": null,
   "metadata": {},
   "outputs": [],
   "source": []
  },
  {
   "cell_type": "code",
   "execution_count": 22,
   "metadata": {},
   "outputs": [
    {
     "data": {
      "text/plain": [
       "{'longitude': <class 'netCDF4._netCDF4.Variable'>\n",
       " float32 longitude(longitude)\n",
       "     units: degrees_east\n",
       "     long_name: longitude\n",
       " unlimited dimensions: \n",
       " current shape = (601,)\n",
       " filling on, default _FillValue of 9.969209968386869e+36 used,\n",
       " 'latitude': <class 'netCDF4._netCDF4.Variable'>\n",
       " float32 latitude(latitude)\n",
       "     units: degrees_north\n",
       "     long_name: latitude\n",
       " unlimited dimensions: \n",
       " current shape = (301,)\n",
       " filling on, default _FillValue of 9.969209968386869e+36 used,\n",
       " 'level': <class 'netCDF4._netCDF4.Variable'>\n",
       " int32 level(level)\n",
       "     units: millibars\n",
       "     long_name: pressure_level\n",
       " unlimited dimensions: \n",
       " current shape = (11,)\n",
       " filling on, default _FillValue of -2147483647 used,\n",
       " 'time': <class 'netCDF4._netCDF4.Variable'>\n",
       " int32 time(time)\n",
       "     units: hours since 1900-01-01 00:00:00.0\n",
       "     long_name: time\n",
       "     calendar: gregorian\n",
       " unlimited dimensions: \n",
       " current shape = (6,)\n",
       " filling on, default _FillValue of -2147483647 used,\n",
       " 'd': <class 'netCDF4._netCDF4.Variable'>\n",
       " int16 d(time, level, latitude, longitude)\n",
       "     scale_factor: 1.7729172578559477e-08\n",
       "     add_offset: 2.915433768457616e-05\n",
       "     _FillValue: -32767\n",
       "     missing_value: -32767\n",
       "     units: s**-1\n",
       "     long_name: Divergence\n",
       "     standard_name: divergence_of_wind\n",
       " unlimited dimensions: \n",
       " current shape = (6, 11, 301, 601)\n",
       " filling on,\n",
       " 'z': <class 'netCDF4._netCDF4.Variable'>\n",
       " int16 z(time, level, latitude, longitude)\n",
       "     scale_factor: 0.933766969027055\n",
       "     add_offset: 27662.499913390486\n",
       "     _FillValue: -32767\n",
       "     missing_value: -32767\n",
       "     units: m**2 s**-2\n",
       "     long_name: Geopotential\n",
       "     standard_name: geopotential\n",
       " unlimited dimensions: \n",
       " current shape = (6, 11, 301, 601)\n",
       " filling on,\n",
       " 'u': <class 'netCDF4._netCDF4.Variable'>\n",
       " int16 u(time, level, latitude, longitude)\n",
       "     scale_factor: 0.0011826633757634512\n",
       "     add_offset: 11.549991554054305\n",
       "     _FillValue: -32767\n",
       "     missing_value: -32767\n",
       "     units: m s**-1\n",
       "     long_name: U component of wind\n",
       "     standard_name: eastward_wind\n",
       " unlimited dimensions: \n",
       " current shape = (6, 11, 301, 601)\n",
       " filling on,\n",
       " 'v': <class 'netCDF4._netCDF4.Variable'>\n",
       " int16 v(time, level, latitude, longitude)\n",
       "     scale_factor: 0.0014021095507672423\n",
       "     add_offset: 1.7729119212988351\n",
       "     _FillValue: -32767\n",
       "     missing_value: -32767\n",
       "     units: m s**-1\n",
       "     long_name: V component of wind\n",
       "     standard_name: northward_wind\n",
       " unlimited dimensions: \n",
       " current shape = (6, 11, 301, 601)\n",
       " filling on,\n",
       " 'w': <class 'netCDF4._netCDF4.Variable'>\n",
       " int16 w(time, level, latitude, longitude)\n",
       "     scale_factor: 0.00030411239502247436\n",
       "     add_offset: -2.1123146462243665\n",
       "     _FillValue: -32767\n",
       "     missing_value: -32767\n",
       "     units: Pa s**-1\n",
       "     long_name: Vertical velocity\n",
       "     standard_name: lagrangian_tendency_of_air_pressure\n",
       " unlimited dimensions: \n",
       " current shape = (6, 11, 301, 601)\n",
       " filling on,\n",
       " 'vo': <class 'netCDF4._netCDF4.Variable'>\n",
       " int16 vo(time, level, latitude, longitude)\n",
       "     scale_factor: 3.286100426726053e-08\n",
       "     add_offset: 1.2551418396336771e-05\n",
       "     _FillValue: -32767\n",
       "     missing_value: -32767\n",
       "     units: s**-1\n",
       "     long_name: Vorticity (relative)\n",
       "     standard_name: atmosphere_relative_vorticity\n",
       " unlimited dimensions: \n",
       " current shape = (6, 11, 301, 601)\n",
       " filling on}"
      ]
     },
     "execution_count": 22,
     "metadata": {},
     "output_type": "execute_result"
    }
   ],
   "source": [
    "dado.variables"
   ]
  },
  {
   "cell_type": "code",
   "execution_count": null,
   "metadata": {},
   "outputs": [],
   "source": []
  }
 ],
 "metadata": {
  "kernelspec": {
   "display_name": "Python 3",
   "language": "python",
   "name": "python3"
  },
  "language_info": {
   "codemirror_mode": {
    "name": "ipython",
    "version": 3
   },
   "file_extension": ".py",
   "mimetype": "text/x-python",
   "name": "python",
   "nbconvert_exporter": "python",
   "pygments_lexer": "ipython3",
   "version": "3.7.6"
  }
 },
 "nbformat": 4,
 "nbformat_minor": 4
}
